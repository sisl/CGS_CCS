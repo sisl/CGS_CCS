{
 "cells": [
  {
   "cell_type": "code",
   "execution_count": null,
   "metadata": {},
   "outputs": [],
   "source": [
    "using Pkg\n",
    "Pkg.activate(\"..\")\n",
    "import CCSPOMDPs\n",
    "\n",
    "pomdp = CCSPOMDPs.CCSPOMDP();\n"
   ]
  },
  {
   "cell_type": "code",
   "execution_count": null,
   "metadata": {},
   "outputs": [],
   "source": [
    "visualize_uncertainty(pomdp, 1, :topSealThickness)"
   ]
  },
  {
   "cell_type": "code",
   "execution_count": null,
   "metadata": {},
   "outputs": [],
   "source": [
    "visualize_gt(pomdp, 2)"
   ]
  },
  {
   "cell_type": "markdown",
   "metadata": {},
   "source": [
    "### Test: Action function returns all actions"
   ]
  },
  {
   "cell_type": "code",
   "execution_count": null,
   "metadata": {},
   "outputs": [],
   "source": [
    "all_actions = POMDPs.actions(pomdp);"
   ]
  },
  {
   "cell_type": "markdown",
   "metadata": {},
   "source": [
    "### Test: Observation function returns correct distributions"
   ]
  },
  {
   "cell_type": "code",
   "execution_count": null,
   "metadata": {},
   "outputs": [],
   "source": [
    "POMDPs.observation(pomdp, all_actions[2], pomdp.state)"
   ]
  },
  {
   "cell_type": "code",
   "execution_count": null,
   "metadata": {},
   "outputs": [],
   "source": [
    "POMDPs.reward(pomdp, pomdp.state, all_actions[2])"
   ]
  },
  {
   "cell_type": "code",
   "execution_count": null,
   "metadata": {},
   "outputs": [],
   "source": [
    "visualize_uncertainty(pomdp, 2, :topSealThickness)"
   ]
  },
  {
   "cell_type": "code",
   "execution_count": null,
   "metadata": {},
   "outputs": [],
   "source": [
    "POMDPs.observation(pomdp, all_actions[21], pomdp.state) # Can take up to 7 mins to run!"
   ]
  },
  {
   "cell_type": "code",
   "execution_count": null,
   "metadata": {},
   "outputs": [],
   "source": [
    "POMDPs.reward(pomdp, pomdp.state, all_actions[21])"
   ]
  },
  {
   "cell_type": "code",
   "execution_count": null,
   "metadata": {},
   "outputs": [],
   "source": [
    "visualize_uncertainty(pomdp, 2, :z)"
   ]
  },
  {
   "cell_type": "markdown",
   "metadata": {},
   "source": [
    "### Test: Points close are predicted with more accuracy and less uncertainty than points far."
   ]
  },
  {
   "cell_type": "code",
   "execution_count": null,
   "metadata": {},
   "outputs": [],
   "source": [
    "gtlayer = pomdp.state.earth[1].gt\n",
    "\n",
    "# seismic_line = (x1=0.0, y1=0.0, x2=5.0, y2=98.0)\n",
    "well1 = Point(19, 34)\n",
    "well2 = Point(30, 12)\n",
    "well_close = Point(31, 14)\n",
    "well_far = Point(98, 97)\n",
    "\n",
    "all_wells = Multi([well1, well2])\n",
    "data_at_all_wells = gtlayer[all_wells, :]\n",
    "\n",
    "γ = SphericalVariogram(range=RANGE, sill=SILL, nugget=NUGGET)\n",
    "\n",
    "okrig = GeoStatsModels.OrdinaryKriging(γ)\n",
    "fitkrig = GeoStatsModels.fit(okrig, data_at_all_wells)\n",
    "\n",
    "# We notice that prediction at close has much less variance than prediction at far, \n",
    "# and as an additional sanity check the prediction at close is close to the well2 point.\n",
    "# Krigging predictprob only does one attribute at a time.\n",
    "\n",
    "probs_far = GeoStatsModels.predictprob(fitkrig, :z, well_far)\n",
    "probs_close = GeoStatsModels.predictprob(fitkrig, :z, well_close)\n",
    "probs_close, probs_far"
   ]
  },
  {
   "cell_type": "markdown",
   "metadata": {},
   "source": [
    "### Test: Uncertainty is low around known points.\n",
    "Additionally, as nugget is increased uncertainty (both globally and at known points) increases.\n",
    "Pay attention to colorbar when verifying this."
   ]
  },
  {
   "cell_type": "markdown",
   "metadata": {},
   "source": [
    "### Buy well data at 3-4 locations and visualize belief"
   ]
  },
  {
   "cell_type": "code",
   "execution_count": null,
   "metadata": {},
   "outputs": [],
   "source": [
    "buy_well_data(pomdp, 2)\n",
    "buy_well_data(pomdp, 5)\n",
    "buy_well_data(pomdp, 7)"
   ]
  },
  {
   "cell_type": "code",
   "execution_count": null,
   "metadata": {},
   "outputs": [],
   "source": [
    "visualize_uncertainty(Multi([pomdp.collected_locs...]), 3, \"z\") # Note this is time consuming at just 3 gathered points."
   ]
  },
  {
   "cell_type": "code",
   "execution_count": null,
   "metadata": {},
   "outputs": [],
   "source": [
    "distr = observe(pomdp, Point(18, 24), 3, \"z\")\n",
    "rand(distr)"
   ]
  },
  {
   "cell_type": "code",
   "execution_count": null,
   "metadata": {},
   "outputs": [],
   "source": [
    "# A scratch cell to run directly.\n",
    "using Reexport\n",
    "using Distributions\n",
    "using Statistics\n",
    "using GeoStats\n",
    "using Random\n",
    "using DataFrames\n",
    "import GLMakie as Mke\n",
    "using Infiltrator\n",
    "using AbstractGPs\n",
    "using Unitful\n",
    "using Plots\n",
    "using DataStructures\n",
    "include(\"../src/utils.jl\")\n",
    "include(\"../src/config.jl\");"
   ]
  }
 ],
 "metadata": {
  "kernelspec": {
   "display_name": "Julia 1.11.0",
   "language": "julia",
   "name": "julia-1.11"
  },
  "language_info": {
   "file_extension": ".jl",
   "mimetype": "application/julia",
   "name": "julia",
   "version": "1.11.0"
  }
 },
 "nbformat": 4,
 "nbformat_minor": 2
}
