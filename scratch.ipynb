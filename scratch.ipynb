{
 "cells": [
  {
   "cell_type": "code",
   "execution_count": 3,
   "metadata": {},
   "outputs": [],
   "source": [
    "include(\"CGS_POMDP.jl\");\n",
    "pomdp = CGSPOMDP();"
   ]
  },
  {
   "cell_type": "markdown",
   "metadata": {},
   "source": [
    "### Abstract GPs Scratch code"
   ]
  },
  {
   "cell_type": "code",
   "execution_count": 14,
   "metadata": {},
   "outputs": [
    {
     "ename": "Base.Meta.ParseError",
     "evalue": "ParseError:\n# Error @ /Users/suhaschundi/Documents/CGSSISL/jl_notebook_cell_df34fa98e69747e1a8f8a730347b8e2f_X26sZmlsZQ==.jl:8:24\n\n    return p_fx(x, 0.1)\n#                      └ ── Expected `end`",
     "output_type": "error",
     "traceback": [
      "ParseError:\n",
      "# Error @ /Users/suhaschundi/Documents/CGSSISL/jl_notebook_cell_df34fa98e69747e1a8f8a730347b8e2f_X26sZmlsZQ==.jl:8:24\n",
      "\n",
      "    return p_fx(x, 0.1)\n",
      "#                      └ ── Expected `end`\n",
      "\n",
      "Stacktrace:\n",
      " [1] top-level scope\n",
      "   @ ~/Documents/CGSSISL/jl_notebook_cell_df34fa98e69747e1a8f8a730347b8e2f_X26sZmlsZQ==.jl:8"
     ]
    }
   ],
   "source": [
    "function observe(pomdp::CGSPOMDP, point::Point, layer::Int, column::Symbol)\n",
    "    f = pomdp.belief[layer][column]\n",
    "    x = pcu(point)\n",
    "    y = pomdp.state.earth[layer].gt[point, column]\n",
    "    p_fx = posterior(f(x, 0.1), y)\n",
    "    pomdp.belief[layer][column] = p_fx\n",
    "\n",
    "    return p_fx(x, 0.1)\n",
    "end"
   ]
  },
  {
   "cell_type": "code",
   "execution_count": 2,
   "metadata": {},
   "outputs": [
    {
     "data": {
      "text/plain": [
       "visualize_uncertainty (generic function with 1 method)"
      ]
     },
     "metadata": {},
     "output_type": "display_data"
    }
   ],
   "source": [
    "function visualize_uncertainty(pomdp::CGSPOMDP)\n",
    "    df = copy(pomdp.state.earth[1].df)\n",
    "    dom = domain(pomdp.state.earth[1].gt)\n",
    "\n",
    "    for layer in 1:NUM_LAYERS\n",
    "        gtlayer = pomdp.state.earth[layer].gt\n",
    "        data_at_all_wells = gtlayer[Multi([pomdp.collected_locs...]), :]\n",
    "\n",
    "        γ = SphericalVariogram(range=RANGE, sill=SILL, nugget=NUGGET) # Each feature can have a different nugget in the future.\n",
    "        okrig = GeoStatsModels.OrdinaryKriging(γ)\n",
    "        fitkrig = GeoStatsModels.fit(okrig, data_at_all_wells)\n",
    "\n",
    "        for column in pomdp.feature_names\n",
    "            var_column = Symbol(\"$(column)_$(layer)_variances\")\n",
    "            df[!, var_column] = [GeoStatsModels.predictprob(fitkrig, column, pt).σ\n",
    "                            for pt in domain(pomdp.state.earth[1].gt)]\n",
    "        end\n",
    "    end\n",
    "    var_map = georef(df, dom)\n",
    "    viewer(var_map)\n",
    "end"
   ]
  },
  {
   "cell_type": "markdown",
   "metadata": {},
   "source": [
    "### Test: Action function returns all actions"
   ]
  },
  {
   "cell_type": "code",
   "execution_count": 3,
   "metadata": {},
   "outputs": [],
   "source": [
    "all_actions = POMDPs.actions(pomdp);"
   ]
  },
  {
   "cell_type": "markdown",
   "metadata": {},
   "source": [
    "### Test: Observation function returns correct distributions"
   ]
  },
  {
   "cell_type": "code",
   "execution_count": 4,
   "metadata": {},
   "outputs": [
    {
     "data": {
      "text/plain": [
       "DiagNormal(\n",
       "dim: 15\n",
       "μ: [-3.3839821020512524, 76.4781855498032, 75.81037484397422, 5.909107004440592, 117.81757339165631, 67.12876568798308, 13.0959934099886, 77.6823174426963, 26.75527952482024, 23.041993556294873, 161.54534436973438, 78.72169590809182, 30.385034972276202, 58.00357549460046, 74.7706573393428]\n",
       "Σ: [0.6617649993262633 0.0 … 0.0 0.0; 0.0 0.6617649993262633 … 0.0 0.0; … ; 0.0 0.0 … 0.6617649993262633 0.0; 0.0 0.0 … 0.0 0.6617649993262633]\n",
       ")\n"
      ]
     },
     "metadata": {},
     "output_type": "display_data"
    }
   ],
   "source": [
    "POMDPs.observation(pomdp, all_actions[2], pomdp.state)"
   ]
  },
  {
   "cell_type": "code",
   "execution_count": 5,
   "metadata": {},
   "outputs": [
    {
     "data": {
      "text/plain": [
       "9.0"
      ]
     },
     "metadata": {},
     "output_type": "display_data"
    }
   ],
   "source": [
    "POMDPs.reward(pomdp, pomdp.state, all_actions[2])"
   ]
  },
  {
   "cell_type": "code",
   "execution_count": 6,
   "metadata": {},
   "outputs": [],
   "source": [
    "visualize_uncertainty(pomdp)"
   ]
  },
  {
   "cell_type": "code",
   "execution_count": 7,
   "metadata": {},
   "outputs": [
    {
     "data": {
      "text/plain": [
       "Distributions.ProductDistribution{2, 1, Vector{MvNormal}, Distributions.Continuous, Float64}(\n",
       "dists: MvNormal[FullNormal(\n",
       "dim: 20\n",
       "μ: [1.4566647061421922, 3.403922569850415, 3.6617521036927196, 2.2619706584048456, 1.5313036600066148, -0.16699835395039025, -0.06029857614342938, 1.2886710724856782, 0.7727233174025183, -0.26533002400307415, -0.7060660403285841, 0.12241905925019678, 0.7366427215102422, 0.9299712308720696, 2.851685551412363, 3.3130112280333104, 3.8884975076738404, 2.7420089958215494, 3.205076829045678, 2.978364315331161]\n",
       "Σ: [1.0e-5 2.0055785725957926e-30 … -2.8078100016341097e-30 -2.406694287114951e-30; 2.0055785725957926e-30 1.0e-5 … -7.019525004085275e-30 -6.016735717787378e-30; … ; -2.8078100016341097e-30 -7.019525004085275e-30 … 1.0e-5 8.42343000490233e-30; -2.406694287114951e-30 -6.016735717787378e-30 … 8.42343000490233e-30 1.0e-5]\n",
       ")\n",
       ", FullNormal(\n",
       "dim: 20\n",
       "μ: [75.37223448730896, 77.96678888526225, 76.41210281021264, 77.64483765090851, 78.23520280693303, 79.88732526451592, 79.67343660731879, 78.01652110588323, 78.12235499069256, 77.35387405632638, 78.53805369337167, 77.45752730043607, 76.54823487660387, 76.19576080028129, 75.12216482893665, 72.83762760077344, 72.46686312593884, 73.99653151133529, 74.01795484631921, 75.49887826258278]\n",
       "Σ: [1.0e-5 -2.0537124583380917e-28 … 8.214849833352367e-28 -2.0537124583380917e-28; -2.0537124583380917e-28 1.0e-5 … -8.214849833352367e-28 2.0537124583380917e-28; … ; 8.214849833352367e-28 -8.214849833352367e-28 … 1.0e-5 -8.214849833352367e-28; -2.0537124583380917e-28 2.0537124583380917e-28 … -8.214849833352367e-28 1.0e-5]\n",
       ")\n",
       ", FullNormal(\n",
       "dim: 20\n",
       "μ: [72.76115925447392, 73.92867991307817, 73.17078004760829, 75.02220620138692, 77.37575129038707, 77.34614490445163, 78.06239301903992, 79.66674466984757, 78.59804299612216, 77.49335464182452, 77.80046231611452, 78.23442146599648, 78.27666643976005, 77.15662776332232, 78.3076484624384, 77.4309889771403, 77.29190101960015, 76.45432891601233, 75.17615981109296, 75.67439863027185]\n",
       "Σ: [1.0e-5 -1.6429699666704733e-27 … 1.6429699666704733e-27 -4.92890990001142e-27; -1.6429699666704733e-27 1.0e-5 … -8.214849833352367e-28 2.46445495000571e-27; … ; 1.6429699666704733e-27 -8.214849833352367e-28 … 1.0e-5 -2.46445495000571e-27; -4.92890990001142e-27 2.46445495000571e-27 … -2.46445495000571e-27 1.0e-5]\n",
       ")\n",
       ", FullNormal(\n",
       "dim: 20\n",
       "μ: [6.278817826419769, 6.213839669039542, 6.121887921409898, 5.02573087652085, 5.78607980474157, 6.120142163606543, 8.6769327726562, 9.403104660171367, 8.734566205939094, 10.57754738624907, 7.842363198718264, 6.469027770186698, 5.481783891058391, 6.574647146376418, 6.678922764317392, 6.162323832808787, 5.678848235754009, 4.471360239138958, 5.7235862501599, 4.719056143036942]\n",
       "Σ: [1.0e-5 -1.925355429691961e-29 … 1.4440165722689708e-29 1.925355429691961e-29; -1.925355429691961e-29 1.0e-5 … -9.626777148459805e-30 -1.2835702864613073e-29; … ; 1.4440165722689708e-29 -9.626777148459805e-30 … 1.0e-5 9.626777148459805e-30; 1.925355429691961e-29 -1.2835702864613073e-29 … 9.626777148459805e-30 1.0e-5]\n",
       ")\n",
       ", FullNormal(\n",
       "dim: 20\n",
       "μ: [118.56282832540006, 119.66695767111587, 117.86617066305531, 117.03673244089258, 117.14352050165418, 117.56034618400261, 119.02470206539152, 119.94805430882747, 120.96990973720398, 121.88788215829574, 122.74658689950319, 121.41985480915724, 121.75827192156393, 122.69378690108236, 123.71826732479529, 123.83561052682236, 124.35515444130465, 123.23533023188156, 121.61923492044322, 121.38201106108342]\n",
       "Σ: [1.0e-5 2.4028435762555675e-26 … 1.478672970003426e-26 2.033175333754711e-26; 2.4028435762555675e-26 1.0e-5 … 2.1358609566716155e-26 2.936808815423471e-26; … ; 1.478672970003426e-26 2.1358609566716155e-26 … 1.0e-5 1.8072669633375208e-26; 2.033175333754711e-26 2.936808815423471e-26 … 1.8072669633375208e-26 1.0e-5]\n",
       ")\n",
       ", FullNormal(\n",
       "dim: 20\n",
       "μ: [66.38018161072479, 67.78386512642112, 67.28225778304615, 68.02077263810733, 67.43335218301486, 65.47051297448158, 65.0422191656344, 65.81395187624767, 64.9406076998898, 63.70781022917515, 63.80564192580823, 64.66053771570247, 65.41555437743759, 66.13849859117644, 65.96259518931299, 67.29232993873653, 68.64613719020453, 69.81929588913046, 69.94805264949859, 68.89052822180692]\n",
       "Σ: [1.0e-5 4.312796162509993e-27 … 1.8483412125042827e-27 -4.312796162509993e-27; 4.312796162509993e-27 1.0e-5 … 4.312796162509993e-27 -1.006319104585665e-26; … ; 1.8483412125042827e-27 4.312796162509993e-27 … 1.0e-5 -4.312796162509993e-27; -4.312796162509993e-27 -1.006319104585665e-26 … -4.312796162509993e-27 1.0e-5]\n",
       ")\n",
       ", FullNormal(\n",
       "dim: 20\n",
       "μ: [16.137966288552636, 16.472088050041968, 17.207244262613695, 15.190315840304827, 14.461486583459186, 13.843954380343568, 14.746969651029529, 15.67352186243582, 15.713709319376322, 16.190552172460116, 17.528461143994015, 15.431148274764412, 14.412414113261601, 13.18360973302773, 14.038170079191701, 12.033702994946415, 13.156501744051068, 11.698676878359827, 11.019509049142323, 11.883234889022562]\n",
       "Σ: [1.0e-5 1.5402843437535687e-28 … -2.5671405729226146e-29 -7.701421718767844e-29; 1.5402843437535687e-28 1.0e-5 … -1.925355429691961e-29 -5.776066289075883e-29; … ; -2.5671405729226146e-29 -1.925355429691961e-29 … 1.0e-5 9.626777148459805e-30; -7.701421718767844e-29 -5.776066289075883e-29 … 9.626777148459805e-30 1.0e-5]\n",
       ")\n",
       ", FullNormal(\n",
       "dim: 20\n",
       "μ: [77.14857510876261, 77.17547960313179, 76.12296686288884, 76.10520745047316, 75.89980974787518, 75.7219187275924, 76.88272769661036, 74.86176215288006, 74.86543113163427, 75.43191841266888, 75.40370543945212, 74.79306872559759, 74.46335958228941, 73.20355195058487, 75.11097512814045, 74.43179021387408, 75.4395620406759, 75.75017417737703, 75.55352382034893, 75.73259519899874]\n",
       "Σ: [1.0e-5 -1.0268562291690458e-27 … 0.0 0.0; -1.0268562291690458e-27 1.0e-5 … 0.0 0.0; … ; 0.0 0.0 … 1.0e-5 0.0; 0.0 0.0 … 0.0 1.0e-5]\n",
       ")\n",
       ", FullNormal(\n",
       "dim: 20\n",
       "μ: [29.78882510755813, 30.607368011081185, 28.15360514576394, 27.871598236895977, 27.020982545761814, 28.05557076597665, 28.28750610601241, 28.081959003078723, 29.15068464681775, 30.108860434134826, 29.18628233705545, 28.55516308714902, 27.898121981126685, 27.148294780262926, 26.80782035105466, 26.26730695348163, 27.531164441884304, 28.01424056023159, 29.60859554115671, 30.264038188369344]\n",
       "Σ: [1.0e-5 -7.701421718767844e-28 … -1.5402843437535688e-27 3.850710859383922e-28; -7.701421718767844e-28 1.0e-5 … 9.241706062521413e-28 -2.3104265156303533e-28; … ; -1.5402843437535688e-27 9.241706062521413e-28 … 1.0e-5 -4.620853031260707e-28; 3.850710859383922e-28 -2.3104265156303533e-28 … -4.620853031260707e-28 1.0e-5]\n",
       ")\n",
       ", FullNormal(\n",
       "dim: 20\n",
       "μ: [23.506165416229596, 24.975833035372947, 25.482772735022067, 27.108971461691386, 26.405520906318692, 25.168113336199003, 24.755466034617648, 23.335831188721766, 23.555473046032162, 23.821908571221396, 24.661728191856973, 23.795961972253693, 23.02735751882266, 21.53224258580985, 22.800180367304826, 22.60259670929755, 22.975007289029385, 25.761337449101593, 26.74279955798032, 27.641501581601457]\n",
       "Σ: [1.0e-5 4.107424916676183e-28 … -7.187993604183321e-28 -1.0268562291690458e-28; 4.107424916676183e-28 1.0e-5 … -3.5939968020916604e-28 -5.134281145845229e-29; … ; -7.187993604183321e-28 -3.5939968020916604e-28 … 1.0e-5 8.984992005229151e-29; -1.0268562291690458e-28 -5.134281145845229e-29 … 8.984992005229151e-29 1.0e-5]\n",
       ")\n",
       ", FullNormal(\n",
       "dim: 20\n",
       "μ: [167.33080597291465, 166.44478737673472, 166.5270153009995, 164.14507649313657, 164.22382086918248, 164.56195616598526, 165.81822460030963, 165.4704263644109, 165.06167929410944, 164.82271352057066, 166.09886046931948, 163.98054700163306, 162.69614715470723, 162.80393620583285, 161.49216798827425, 162.1773745225733, 161.52962599950357, 162.62704881111551, 165.29775537676144, 164.64326442043802]\n",
       "Σ: [1.0e-5 -9.85781980002284e-27 … 0.0 1.6429699666704733e-26; -9.85781980002284e-27 1.0e-5 … 0.0 -4.92890990001142e-26; … ; 0.0 0.0 … 1.0e-5 0.0; 1.6429699666704733e-26 -4.92890990001142e-26 … 0.0 1.0e-5]\n",
       ")\n",
       ", FullNormal(\n",
       "dim: 20\n",
       "μ: [79.3514035695767, 79.61052301576699, 80.7912703472747, 81.2737823153984, 82.03599799453212, 80.1012211817894, 81.2421214445367, 79.33605692398041, 78.64867768351922, 77.78655456430685, 78.68915930555097, 78.82475721235896, 79.67132592872149, 79.43760905020001, 77.67372312101483, 78.22453193102514, 78.33404913705235, 79.98837070132224, 78.83199298114786, 79.9870314498212]\n",
       "Σ: [1.0e-5 -2.0537124583380917e-28 … -1.4375987208366642e-27 0.0; -2.0537124583380917e-28 1.0e-5 … 1.4375987208366642e-27 0.0; … ; -1.4375987208366642e-27 1.4375987208366642e-27 … 1.0e-5 0.0; 0.0 0.0 … 0.0 1.0e-5]\n",
       ")\n",
       ", FullNormal(\n",
       "dim: 20\n",
       "μ: [29.521743905369007, 30.576014020009147, 30.32779874560941, 31.825921536550812, 31.35325158391998, 31.68948372047066, 29.64568196817203, 31.269950178319736, 29.458898343197028, 29.63858816180688, 31.177080805904794, 31.183573864013326, 31.39786068250017, 31.788248862346787, 31.690934170780054, 31.95994004572351, 31.0025576771996, 30.862719667459483, 30.30169303625074, 30.703545634632306]\n",
       "Σ: [1.0e-5 -9.883491205752067e-28 … 1.5531200466181818e-27 -1.6943127781289257e-27; -9.883491205752067e-28 1.0e-5 … -9.883491205752067e-28 1.0781990406274982e-27; … ; 1.5531200466181818e-27 -9.883491205752067e-28 … 1.0e-5 -1.6943127781289257e-27; -1.6943127781289257e-27 1.0781990406274982e-27 … -1.6943127781289257e-27 1.0e-5]\n",
       ")\n",
       ", FullNormal(\n",
       "dim: 20\n",
       "μ: [54.966867193652114, 58.33612155217144, 58.378210945850114, 57.516018486448495, 59.50764110553728, 60.18334835402721, 60.30042567827458, 60.541196381304296, 58.614927688252514, 58.30555091392852, 58.023045492560975, 58.00982781570701, 58.26059501659932, 57.968822876575686, 58.99318124586077, 58.43339610110688, 58.66360712579388, 58.73032066575885, 58.05713198970181, 59.451527353487]\n",
       "Σ: [1.0e-5 2.46445495000571e-27 … 1.232227475002855e-27 -3.696682425008565e-27; 2.46445495000571e-27 1.0e-5 … 4.107424916676183e-28 -1.232227475002855e-27; … ; 1.232227475002855e-27 4.107424916676183e-28 … 1.0e-5 -6.161137375014275e-28; -3.696682425008565e-27 -1.232227475002855e-27 … -6.161137375014275e-28 1.0e-5]\n",
       ")\n",
       ", FullNormal(\n",
       "dim: 20\n",
       "μ: [76.46940594318252, 75.40201006095604, 74.32251478554977, 74.59310547686538, 74.34190610661518, 74.10807047188698, 72.4794352185164, 72.39936770204135, 71.46091556469332, 72.8233818877544, 72.61737263582656, 74.05539739977786, 74.3757014366524, 73.71276951124672, 74.26290158231959, 75.45891273188711, 74.74991341097633, 73.08178185445094, 73.20685178686685, 74.83921200362873]\n",
       "Σ: [1.0e-5 -2.46445495000571e-27 … 8.214849833352367e-28 1.232227475002855e-27; -2.46445495000571e-27 1.0e-5 … -2.46445495000571e-27 -3.696682425008565e-27; … ; 8.214849833352367e-28 -2.46445495000571e-27 … 1.0e-5 1.232227475002855e-27; 1.232227475002855e-27 -3.696682425008565e-27 … 1.232227475002855e-27 1.0e-5]\n",
       ")\n",
       "]\n",
       "size: (20, 15)\n",
       ")\n"
      ]
     },
     "metadata": {},
     "output_type": "display_data"
    }
   ],
   "source": [
    "POMDPs.observation(pomdp, all_actions[21], pomdp.state) # Can take up to 7 mins to run!"
   ]
  },
  {
   "cell_type": "code",
   "execution_count": 8,
   "metadata": {},
   "outputs": [
    {
     "data": {
      "text/plain": [
       "395.0"
      ]
     },
     "metadata": {},
     "output_type": "display_data"
    }
   ],
   "source": [
    "POMDPs.reward(pomdp, pomdp.state, all_actions[21])"
   ]
  },
  {
   "cell_type": "code",
   "execution_count": 9,
   "metadata": {},
   "outputs": [],
   "source": [
    "visualize_uncertainty(pomdp)"
   ]
  },
  {
   "cell_type": "markdown",
   "metadata": {},
   "source": [
    "### Test: Points close are predicted with more accuracy and less uncertainty than points far."
   ]
  },
  {
   "cell_type": "code",
   "execution_count": 8,
   "metadata": {},
   "outputs": [
    {
     "ename": "UndefVarError",
     "evalue": "UndefVarError: `pomdp` not defined in `Main`\nSuggestion: check for spelling errors or missing imports.",
     "output_type": "error",
     "traceback": [
      "UndefVarError: `pomdp` not defined in `Main`\n",
      "Suggestion: check for spelling errors or missing imports.\n",
      "\n",
      "Stacktrace:\n",
      " [1] top-level scope\n",
      "   @ ~/Documents/CGSSISL/jl_notebook_cell_df34fa98e69747e1a8f8a730347b8e2f_X13sZmlsZQ==.jl:1"
     ]
    }
   ],
   "source": [
    "gtlayer = pomdp.state.earth[1].gt\n",
    "\n",
    "# seismic_line = (x1=0.0, y1=0.0, x2=5.0, y2=98.0)\n",
    "well1 = Point(19, 34)\n",
    "well2 = Point(30, 12)\n",
    "well_close = Point(31, 14)\n",
    "well_far = Point(98, 97)\n",
    "\n",
    "all_wells = Multi([well1, well2])\n",
    "data_at_all_wells = gtlayer[all_wells, :]\n",
    "\n",
    "γ = SphericalVariogram(range=RANGE, sill=SILL, nugget=NUGGET)\n",
    "\n",
    "okrig = GeoStatsModels.OrdinaryKriging(γ)\n",
    "fitkrig = GeoStatsModels.fit(okrig, data_at_all_wells)\n",
    "\n",
    "# We notice that prediction at close has much less variance than prediction at far, \n",
    "# and as an additional sanity check the prediction at close is close to the well2 point.\n",
    "# Krigging predictprob only does one attribute at a time.\n",
    "\n",
    "probs_far = GeoStatsModels.predictprob(fitkrig, :z, well_far)\n",
    "probs_close = GeoStatsModels.predictprob(fitkrig, :z, well_close)\n",
    "probs_close, probs_far"
   ]
  },
  {
   "cell_type": "markdown",
   "metadata": {},
   "source": [
    "### Test: Uncertainty is low around known points.\n",
    "Additionally, as nugget is increased uncertainty (both globally and at known points) increases.\n",
    "Pay attention to colorbar when verifying this."
   ]
  },
  {
   "cell_type": "markdown",
   "metadata": {},
   "source": [
    "### Buy well data at 3-4 locations and visualize belief"
   ]
  },
  {
   "cell_type": "code",
   "execution_count": 10,
   "metadata": {},
   "outputs": [
    {
     "ename": "UndefVarError",
     "evalue": "UndefVarError: `pomdp` not defined in `Main`\nSuggestion: check for spelling errors or missing imports.",
     "output_type": "error",
     "traceback": [
      "UndefVarError: `pomdp` not defined in `Main`\n",
      "Suggestion: check for spelling errors or missing imports.\n",
      "\n",
      "Stacktrace:\n",
      " [1] top-level scope\n",
      "   @ ~/Documents/CGSSISL/jl_notebook_cell_df34fa98e69747e1a8f8a730347b8e2f_X20sZmlsZQ==.jl:1"
     ]
    }
   ],
   "source": [
    "buy_well_data(pomdp, 2)\n",
    "buy_well_data(pomdp, 5)\n",
    "buy_well_data(pomdp, 7)"
   ]
  },
  {
   "cell_type": "code",
   "execution_count": 12,
   "metadata": {},
   "outputs": [
    {
     "ename": "UndefVarError",
     "evalue": "UndefVarError: `pomdp` not defined in `Main`\nSuggestion: check for spelling errors or missing imports.",
     "output_type": "error",
     "traceback": [
      "UndefVarError: `pomdp` not defined in `Main`\n",
      "Suggestion: check for spelling errors or missing imports.\n",
      "\n",
      "Stacktrace:\n",
      " [1] top-level scope\n",
      "   @ ~/Documents/CGSSISL/jl_notebook_cell_df34fa98e69747e1a8f8a730347b8e2f_X21sZmlsZQ==.jl:1"
     ]
    }
   ],
   "source": [
    "visualize_uncertainty(Multi([pomdp.collected_locs...]), 3, \"z\") # Note this is time consuming at just 3 gathered points."
   ]
  },
  {
   "cell_type": "code",
   "execution_count": 13,
   "metadata": {},
   "outputs": [
    {
     "ename": "UndefVarError",
     "evalue": "UndefVarError: `pomdp` not defined in `Main`\nSuggestion: check for spelling errors or missing imports.",
     "output_type": "error",
     "traceback": [
      "UndefVarError: `pomdp` not defined in `Main`\n",
      "Suggestion: check for spelling errors or missing imports.\n",
      "\n",
      "Stacktrace:\n",
      " [1] top-level scope\n",
      "   @ ~/Documents/CGSSISL/jl_notebook_cell_df34fa98e69747e1a8f8a730347b8e2f_X22sZmlsZQ==.jl:1"
     ]
    }
   ],
   "source": [
    "distr = observe(pomdp, Point(18, 24), 3, \"z\")\n",
    "rand(distr)"
   ]
  }
 ],
 "metadata": {
  "kernelspec": {
   "display_name": "Julia 1.11.0",
   "language": "julia",
   "name": "julia-1.11"
  },
  "language_info": {
   "file_extension": ".jl",
   "mimetype": "application/julia",
   "name": "julia",
   "version": "1.11.0"
  }
 },
 "nbformat": 4,
 "nbformat_minor": 2
}
