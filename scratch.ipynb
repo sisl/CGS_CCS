{
 "cells": [
  {
   "cell_type": "code",
   "execution_count": 1,
   "metadata": {},
   "outputs": [],
   "source": [
    "include(\"CGS_POMDP.jl\");\n",
    "pomdp = CGSPOMDP();"
   ]
  },
  {
   "cell_type": "code",
   "execution_count": 12,
   "metadata": {},
   "outputs": [
    {
     "data": {
      "text/plain": [
       "visualize_uncertainty (generic function with 2 methods)"
      ]
     },
     "metadata": {},
     "output_type": "display_data"
    }
   ],
   "source": [
    "function visualize_uncertainty(pomdp::CGSPOMDP)\n",
    "    df = copy(pomdp.state.earth[1].df)\n",
    "    dom = domain(pomdp.state.earth[1].gt)\n",
    "\n",
    "    for layer in 1:NUM_LAYERS\n",
    "        gtlayer = pomdp.state.earth[layer].gt\n",
    "        data_at_all_wells = gtlayer[Multi([pomdp.collected_locs...]), :]\n",
    "\n",
    "        γ = SphericalVariogram(range=RANGE, sill=SILL, nugget=NUGGET) # Each feature can have a different nugget in the future.\n",
    "        okrig = GeoStatsModels.OrdinaryKriging(γ)\n",
    "        fitkrig = GeoStatsModels.fit(okrig, data_at_all_wells)\n",
    "\n",
    "        for column in pomdp.feature_names\n",
    "            var_column = Symbol(\"$(column)_$(layer)_variances\")\n",
    "            df[!, var_column] = [GeoStatsModels.predictprob(fitkrig, column, pt).σ\n",
    "                            for pt in domain(pomdp.state.earth[1].gt)]\n",
    "        end\n",
    "    end\n",
    "    var_map = georef(df, dom)\n",
    "    viewer(var_map)\n",
    "end"
   ]
  },
  {
   "cell_type": "markdown",
   "metadata": {},
   "source": [
    "### Test: Action function returns all actions"
   ]
  },
  {
   "cell_type": "code",
   "execution_count": 3,
   "metadata": {},
   "outputs": [],
   "source": [
    "all_actions = POMDPs.actions(pomdp);"
   ]
  },
  {
   "cell_type": "markdown",
   "metadata": {},
   "source": [
    "### Test: Observation function returns correct distributions"
   ]
  },
  {
   "cell_type": "code",
   "execution_count": 4,
   "metadata": {},
   "outputs": [
    {
     "data": {
      "text/plain": [
       "DiagNormal(\n",
       "dim: 15\n",
       "μ: [0.8453198757256793, 68.17626896778893, 38.38629206652658, 8.374965944397989, 304.80287205453294, 81.40240857950931, 10.555969175330723, 13.914437367397966, 70.50338006675491, 12.123399284044224, 272.87059405893655, 74.49070044875167, 15.30642489627985, 150.90298303462095, 35.64002207040294]\n",
       "Σ: [0.6617649993262633 0.0 … 0.0 0.0; 0.0 0.6617649993262633 … 0.0 0.0; … ; 0.0 0.0 … 0.6617649993262633 0.0; 0.0 0.0 … 0.0 0.6617649993262633]\n",
       ")\n"
      ]
     },
     "metadata": {},
     "output_type": "display_data"
    }
   ],
   "source": [
    "POMDPs.observation(pomdp, all_actions[2], pomdp.state)"
   ]
  },
  {
   "cell_type": "code",
   "execution_count": 5,
   "metadata": {},
   "outputs": [
    {
     "data": {
      "text/plain": [
       "29.0"
      ]
     },
     "metadata": {},
     "output_type": "display_data"
    }
   ],
   "source": [
    "POMDPs.reward(pomdp, pomdp.state, all_actions[2])"
   ]
  },
  {
   "cell_type": "code",
   "execution_count": 14,
   "metadata": {},
   "outputs": [],
   "source": [
    "visualize_uncertainty(pomdp)"
   ]
  },
  {
   "cell_type": "code",
   "execution_count": null,
   "metadata": {},
   "outputs": [],
   "source": [
    "POMDPs.observation(pomdp, all_actions[21], pomdp.state) # Can take up to 7 mins to run!\n",
    "# Ask Mansur how to speed this up and how to test this"
   ]
  },
  {
   "cell_type": "code",
   "execution_count": null,
   "metadata": {},
   "outputs": [],
   "source": [
    "POMDPs.reward(pomdp, pomdp.state, all_actions[21])"
   ]
  },
  {
   "cell_type": "markdown",
   "metadata": {},
   "source": [
    "### Test: Points close are predicted with more accuracy and less uncertainty than points far."
   ]
  },
  {
   "cell_type": "code",
   "execution_count": 8,
   "metadata": {},
   "outputs": [
    {
     "ename": "UndefVarError",
     "evalue": "UndefVarError: `pomdp` not defined in `Main`\nSuggestion: check for spelling errors or missing imports.",
     "output_type": "error",
     "traceback": [
      "UndefVarError: `pomdp` not defined in `Main`\n",
      "Suggestion: check for spelling errors or missing imports.\n",
      "\n",
      "Stacktrace:\n",
      " [1] top-level scope\n",
      "   @ ~/Documents/CGSSISL/jl_notebook_cell_df34fa98e69747e1a8f8a730347b8e2f_X13sZmlsZQ==.jl:1"
     ]
    }
   ],
   "source": [
    "gtlayer = pomdp.state.earth[1].gt\n",
    "\n",
    "# seismic_line = (x1=0.0, y1=0.0, x2=5.0, y2=98.0)\n",
    "well1 = Point(19, 34)\n",
    "well2 = Point(30, 12)\n",
    "well_close = Point(31, 14)\n",
    "well_far = Point(98, 97)\n",
    "\n",
    "all_wells = Multi([well1, well2])\n",
    "data_at_all_wells = gtlayer[all_wells, :]\n",
    "\n",
    "γ = SphericalVariogram(range=RANGE, sill=SILL, nugget=NUGGET)\n",
    "\n",
    "okrig = GeoStatsModels.OrdinaryKriging(γ)\n",
    "fitkrig = GeoStatsModels.fit(okrig, data_at_all_wells)\n",
    "\n",
    "# We notice that prediction at close has much less variance than prediction at far, \n",
    "# and as an additional sanity check the prediction at close is close to the well2 point.\n",
    "# Krigging predictprob only does one attribute at a time.\n",
    "\n",
    "probs_far = GeoStatsModels.predictprob(fitkrig, :z, well_far)\n",
    "probs_close = GeoStatsModels.predictprob(fitkrig, :z, well_close)\n",
    "probs_close, probs_far"
   ]
  },
  {
   "cell_type": "markdown",
   "metadata": {},
   "source": [
    "### Test: Uncertainty is low around known points.\n",
    "Additionally, as nugget is increased uncertainty (both globally and at known points) increases.\n",
    "Pay attention to colorbar when verifying this."
   ]
  },
  {
   "cell_type": "markdown",
   "metadata": {},
   "source": [
    "### Buy well data at 3-4 locations and visualize belief"
   ]
  },
  {
   "cell_type": "code",
   "execution_count": 10,
   "metadata": {},
   "outputs": [
    {
     "ename": "UndefVarError",
     "evalue": "UndefVarError: `pomdp` not defined in `Main`\nSuggestion: check for spelling errors or missing imports.",
     "output_type": "error",
     "traceback": [
      "UndefVarError: `pomdp` not defined in `Main`\n",
      "Suggestion: check for spelling errors or missing imports.\n",
      "\n",
      "Stacktrace:\n",
      " [1] top-level scope\n",
      "   @ ~/Documents/CGSSISL/jl_notebook_cell_df34fa98e69747e1a8f8a730347b8e2f_X20sZmlsZQ==.jl:1"
     ]
    }
   ],
   "source": [
    "buy_well_data(pomdp, 2)\n",
    "buy_well_data(pomdp, 5)\n",
    "buy_well_data(pomdp, 7)"
   ]
  },
  {
   "cell_type": "code",
   "execution_count": 12,
   "metadata": {},
   "outputs": [
    {
     "ename": "UndefVarError",
     "evalue": "UndefVarError: `pomdp` not defined in `Main`\nSuggestion: check for spelling errors or missing imports.",
     "output_type": "error",
     "traceback": [
      "UndefVarError: `pomdp` not defined in `Main`\n",
      "Suggestion: check for spelling errors or missing imports.\n",
      "\n",
      "Stacktrace:\n",
      " [1] top-level scope\n",
      "   @ ~/Documents/CGSSISL/jl_notebook_cell_df34fa98e69747e1a8f8a730347b8e2f_X21sZmlsZQ==.jl:1"
     ]
    }
   ],
   "source": [
    "visualize_uncertainty(Multi([pomdp.collected_locs...]), 3, \"z\") # Note this is time consuming at just 3 gathered points."
   ]
  },
  {
   "cell_type": "code",
   "execution_count": 13,
   "metadata": {},
   "outputs": [
    {
     "ename": "UndefVarError",
     "evalue": "UndefVarError: `pomdp` not defined in `Main`\nSuggestion: check for spelling errors or missing imports.",
     "output_type": "error",
     "traceback": [
      "UndefVarError: `pomdp` not defined in `Main`\n",
      "Suggestion: check for spelling errors or missing imports.\n",
      "\n",
      "Stacktrace:\n",
      " [1] top-level scope\n",
      "   @ ~/Documents/CGSSISL/jl_notebook_cell_df34fa98e69747e1a8f8a730347b8e2f_X22sZmlsZQ==.jl:1"
     ]
    }
   ],
   "source": [
    "distr = observe(pomdp, Point(18, 24), 3, \"z\")\n",
    "rand(distr)"
   ]
  }
 ],
 "metadata": {
  "kernelspec": {
   "display_name": "Julia 1.11.0",
   "language": "julia",
   "name": "julia-1.11"
  },
  "language_info": {
   "file_extension": ".jl",
   "mimetype": "application/julia",
   "name": "julia",
   "version": "1.11.0"
  }
 },
 "nbformat": 4,
 "nbformat_minor": 2
}
